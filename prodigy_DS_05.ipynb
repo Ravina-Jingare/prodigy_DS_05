{
 "cells": [
  {
   "cell_type": "code",
   "execution_count": 1,
   "id": "3bb0d4ea-aac9-4ee3-813a-cfd4656b0c4d",
   "metadata": {},
   "outputs": [],
   "source": [
    "import pandas as pd\n",
    "import numpy as np\n",
    "import matplotlib.pyplot as plt\n",
    "import seaborn as sns\n",
    "from sklearn.cluster import KMeans\n"
   ]
  },
  {
   "cell_type": "code",
   "execution_count": 2,
   "id": "1e9f20c5-0ea2-47cf-a23a-27e95953d5d2",
   "metadata": {},
   "outputs": [],
   "source": [
    "# Generate synthetic data\n",
    "np.random.seed(0)\n",
    "n_samples = 1000"
   ]
  },
  {
   "cell_type": "code",
   "execution_count": null,
   "id": "2f964769-b56f-42a0-acaf-5f4964e99338",
   "metadata": {},
   "outputs": [],
   "source": [
    "# Simulate road conditions (0: dry, 1: wet, 2: icy)\n",
    "road_conditions = np.random.choice(['Dry', 'Wet', 'Icy'], size=n_samples)\n"
   ]
  },
  {
   "cell_type": "code",
   "execution_count": null,
   "id": "f676f10b-4b7e-4716-812a-9741e98277ac",
   "metadata": {},
   "outputs": [],
   "source": [
    "# Simulate weather conditions (0: clear, 1: rainy, 2: snowy)\n",
    "weather_conditions = np.random.choice(['Clear', 'Rainy', 'Snowy'], size=n_samples)\n"
   ]
  },
  {
   "cell_type": "code",
   "execution_count": null,
   "id": "6346d26c-8856-49cd-822e-bbb2f3df219d",
   "metadata": {},
   "outputs": [],
   "source": [
    "# Simulate time of day (0-23 hours)\n",
    "time_of_day = np.random.randint(0, 24, size=n_samples)\n"
   ]
  },
  {
   "cell_type": "code",
   "execution_count": null,
   "id": "f9571a40-416d-4443-bf1e-f1bdc903c43e",
   "metadata": {},
   "outputs": [],
   "source": [
    "# Simulate accident locations (latitude and longitude)\n",
    "latitude = np.random.uniform(40, 41, size=n_samples)\n",
    "longitude = np.random.uniform(-74, -73, size=n_samples)\n"
   ]
  },
  {
   "cell_type": "code",
   "execution_count": null,
   "id": "919daeb4-df98-4431-91f4-2119b67b9e19",
   "metadata": {},
   "outputs": [],
   "source": []
  },
  {
   "cell_type": "code",
   "execution_count": null,
   "id": "f9674bdb-5672-4c5f-a36e-98ebf0b57073",
   "metadata": {},
   "outputs": [],
   "source": []
  },
  {
   "cell_type": "code",
   "execution_count": null,
   "id": "98ef47a0-9b0f-4019-8d87-e447c396b17a",
   "metadata": {},
   "outputs": [],
   "source": []
  },
  {
   "cell_type": "code",
   "execution_count": null,
   "id": "a126b25b-f248-427f-854c-e12c29294950",
   "metadata": {},
   "outputs": [],
   "source": []
  },
  {
   "cell_type": "code",
   "execution_count": null,
   "id": "e9cdb328-cb94-4373-a40c-de855a917f84",
   "metadata": {},
   "outputs": [],
   "source": []
  },
  {
   "cell_type": "code",
   "execution_count": null,
   "id": "a5a8d60b-4c38-484b-ba09-773fccbe1acb",
   "metadata": {},
   "outputs": [],
   "source": []
  },
  {
   "cell_type": "code",
   "execution_count": null,
   "id": "8cab0c02-a605-4aa6-9699-38bda1bb50f6",
   "metadata": {},
   "outputs": [],
   "source": []
  },
  {
   "cell_type": "code",
   "execution_count": null,
   "id": "6847d8a9-4483-46ff-8bca-afa3f8707897",
   "metadata": {},
   "outputs": [],
   "source": []
  },
  {
   "cell_type": "code",
   "execution_count": null,
   "id": "04f0f6c2-5377-4e03-8a45-10975cd02f7b",
   "metadata": {},
   "outputs": [],
   "source": []
  }
 ],
 "metadata": {
  "kernelspec": {
   "display_name": "Python 3 (ipykernel)",
   "language": "python",
   "name": "python3"
  },
  "language_info": {
   "codemirror_mode": {
    "name": "ipython",
    "version": 3
   },
   "file_extension": ".py",
   "mimetype": "text/x-python",
   "name": "python",
   "nbconvert_exporter": "python",
   "pygments_lexer": "ipython3",
   "version": "3.11.5"
  }
 },
 "nbformat": 4,
 "nbformat_minor": 5
}
